{
 "cells": [
  {
   "cell_type": "code",
   "execution_count": 1,
   "metadata": {},
   "outputs": [
    {
     "name": "stderr",
     "output_type": "stream",
     "text": [
      "C:\\Users\\Alumno\\AppData\\Local\\Temp\\ipykernel_8100\\4080736814.py:1: DeprecationWarning: \n",
      "Pyarrow will become a required dependency of pandas in the next major release of pandas (pandas 3.0),\n",
      "(to allow more performant data types, such as the Arrow string type, and better interoperability with other libraries)\n",
      "but was not found to be installed on your system.\n",
      "If this would cause problems for you,\n",
      "please provide us feedback at https://github.com/pandas-dev/pandas/issues/54466\n",
      "        \n",
      "  import pandas as pd\n"
     ]
    }
   ],
   "source": [
    "import pandas as pd"
   ]
  },
  {
   "cell_type": "code",
   "execution_count": 2,
   "metadata": {},
   "outputs": [],
   "source": [
    "CO2 = pd.read_csv('Emisiones_CO2.csv', encoding='latin-1', sep='|')"
   ]
  },
  {
   "cell_type": "code",
   "execution_count": 3,
   "metadata": {},
   "outputs": [
    {
     "data": {
      "text/html": [
       "<div>\n",
       "<style scoped>\n",
       "    .dataframe tbody tr th:only-of-type {\n",
       "        vertical-align: middle;\n",
       "    }\n",
       "\n",
       "    .dataframe tbody tr th {\n",
       "        vertical-align: top;\n",
       "    }\n",
       "\n",
       "    .dataframe thead th {\n",
       "        text-align: right;\n",
       "    }\n",
       "</style>\n",
       "<table border=\"1\" class=\"dataframe\">\n",
       "  <thead>\n",
       "    <tr style=\"text-align: right;\">\n",
       "      <th></th>\n",
       "      <th>Código de país</th>\n",
       "      <th>Nombre del país</th>\n",
       "      <th>Región</th>\n",
       "      <th>Año</th>\n",
       "      <th>CO2 (kt)</th>\n",
       "      <th>CO2 per cápita (toneladas métricas)</th>\n",
       "    </tr>\n",
       "  </thead>\n",
       "  <tbody>\n",
       "    <tr>\n",
       "      <th>0</th>\n",
       "      <td>ABW</td>\n",
       "      <td>Aruba</td>\n",
       "      <td>América Latina y Caribe</td>\n",
       "      <td>1960</td>\n",
       "      <td>NaN</td>\n",
       "      <td>NaN</td>\n",
       "    </tr>\n",
       "    <tr>\n",
       "      <th>1</th>\n",
       "      <td>ABW</td>\n",
       "      <td>Aruba</td>\n",
       "      <td>América Latina y Caribe</td>\n",
       "      <td>1961</td>\n",
       "      <td>NaN</td>\n",
       "      <td>NaN</td>\n",
       "    </tr>\n",
       "    <tr>\n",
       "      <th>2</th>\n",
       "      <td>ABW</td>\n",
       "      <td>Aruba</td>\n",
       "      <td>América Latina y Caribe</td>\n",
       "      <td>1962</td>\n",
       "      <td>NaN</td>\n",
       "      <td>NaN</td>\n",
       "    </tr>\n",
       "    <tr>\n",
       "      <th>3</th>\n",
       "      <td>ABW</td>\n",
       "      <td>Aruba</td>\n",
       "      <td>América Latina y Caribe</td>\n",
       "      <td>1963</td>\n",
       "      <td>NaN</td>\n",
       "      <td>NaN</td>\n",
       "    </tr>\n",
       "    <tr>\n",
       "      <th>4</th>\n",
       "      <td>ABW</td>\n",
       "      <td>Aruba</td>\n",
       "      <td>América Latina y Caribe</td>\n",
       "      <td>1964</td>\n",
       "      <td>NaN</td>\n",
       "      <td>NaN</td>\n",
       "    </tr>\n",
       "    <tr>\n",
       "      <th>5</th>\n",
       "      <td>ABW</td>\n",
       "      <td>Aruba</td>\n",
       "      <td>América Latina y Caribe</td>\n",
       "      <td>1965</td>\n",
       "      <td>NaN</td>\n",
       "      <td>NaN</td>\n",
       "    </tr>\n",
       "    <tr>\n",
       "      <th>6</th>\n",
       "      <td>ABW</td>\n",
       "      <td>Aruba</td>\n",
       "      <td>América Latina y Caribe</td>\n",
       "      <td>1966</td>\n",
       "      <td>NaN</td>\n",
       "      <td>NaN</td>\n",
       "    </tr>\n",
       "    <tr>\n",
       "      <th>7</th>\n",
       "      <td>ABW</td>\n",
       "      <td>Aruba</td>\n",
       "      <td>América Latina y Caribe</td>\n",
       "      <td>1967</td>\n",
       "      <td>NaN</td>\n",
       "      <td>NaN</td>\n",
       "    </tr>\n",
       "    <tr>\n",
       "      <th>8</th>\n",
       "      <td>ABW</td>\n",
       "      <td>Aruba</td>\n",
       "      <td>América Latina y Caribe</td>\n",
       "      <td>1968</td>\n",
       "      <td>NaN</td>\n",
       "      <td>NaN</td>\n",
       "    </tr>\n",
       "    <tr>\n",
       "      <th>9</th>\n",
       "      <td>ABW</td>\n",
       "      <td>Aruba</td>\n",
       "      <td>América Latina y Caribe</td>\n",
       "      <td>1969</td>\n",
       "      <td>NaN</td>\n",
       "      <td>NaN</td>\n",
       "    </tr>\n",
       "  </tbody>\n",
       "</table>\n",
       "</div>"
      ],
      "text/plain": [
       "  Código de país Nombre del país                   Región   Año CO2 (kt)  \\\n",
       "0            ABW           Aruba  América Latina y Caribe  1960      NaN   \n",
       "1            ABW           Aruba  América Latina y Caribe  1961      NaN   \n",
       "2            ABW           Aruba  América Latina y Caribe  1962      NaN   \n",
       "3            ABW           Aruba  América Latina y Caribe  1963      NaN   \n",
       "4            ABW           Aruba  América Latina y Caribe  1964      NaN   \n",
       "5            ABW           Aruba  América Latina y Caribe  1965      NaN   \n",
       "6            ABW           Aruba  América Latina y Caribe  1966      NaN   \n",
       "7            ABW           Aruba  América Latina y Caribe  1967      NaN   \n",
       "8            ABW           Aruba  América Latina y Caribe  1968      NaN   \n",
       "9            ABW           Aruba  América Latina y Caribe  1969      NaN   \n",
       "\n",
       "  CO2 per cápita (toneladas métricas)  \n",
       "0                                 NaN  \n",
       "1                                 NaN  \n",
       "2                                 NaN  \n",
       "3                                 NaN  \n",
       "4                                 NaN  \n",
       "5                                 NaN  \n",
       "6                                 NaN  \n",
       "7                                 NaN  \n",
       "8                                 NaN  \n",
       "9                                 NaN  "
      ]
     },
     "execution_count": 3,
     "metadata": {},
     "output_type": "execute_result"
    }
   ],
   "source": [
    "CO2.head(10)"
   ]
  },
  {
   "cell_type": "code",
   "execution_count": 4,
   "metadata": {},
   "outputs": [
    {
     "data": {
      "text/plain": [
       "<bound method DataFrame.info of       Código de país Nombre del país                   Región   Año  CO2 (kt)  \\\n",
       "0                ABW           Aruba  América Latina y Caribe  1960       NaN   \n",
       "1                ABW           Aruba  América Latina y Caribe  1961       NaN   \n",
       "2                ABW           Aruba  América Latina y Caribe  1962       NaN   \n",
       "3                ABW           Aruba  América Latina y Caribe  1963       NaN   \n",
       "4                ABW           Aruba  América Latina y Caribe  1964       NaN   \n",
       "...              ...             ...                      ...   ...       ...   \n",
       "11122            ZWE        Zimbabue      África subsahariana  2007  9.732,22   \n",
       "11123            ZWE        Zimbabue      África subsahariana  2008  7.682,37   \n",
       "11124            ZWE        Zimbabue      África subsahariana  2009  8.239,75   \n",
       "11125            ZWE        Zimbabue      África subsahariana  2010  9.028,15   \n",
       "11126            ZWE        Zimbabue      África subsahariana  2011  9.860,56   \n",
       "\n",
       "      CO2 per cápita (toneladas métricas)  \n",
       "0                                     NaN  \n",
       "1                                     NaN  \n",
       "2                                     NaN  \n",
       "3                                     NaN  \n",
       "4                                     NaN  \n",
       "...                                   ...  \n",
       "11122                         0,731866885  \n",
       "11123                         0,569255428  \n",
       "11124                         0,600521157  \n",
       "11125                         0,646072745  \n",
       "11126                         0,691697897  \n",
       "\n",
       "[11127 rows x 6 columns]>"
      ]
     },
     "execution_count": 4,
     "metadata": {},
     "output_type": "execute_result"
    }
   ],
   "source": [
    "CO2.info"
   ]
  },
  {
   "cell_type": "code",
   "execution_count": 5,
   "metadata": {},
   "outputs": [
    {
     "data": {
      "text/html": [
       "<div>\n",
       "<style scoped>\n",
       "    .dataframe tbody tr th:only-of-type {\n",
       "        vertical-align: middle;\n",
       "    }\n",
       "\n",
       "    .dataframe tbody tr th {\n",
       "        vertical-align: top;\n",
       "    }\n",
       "\n",
       "    .dataframe thead th {\n",
       "        text-align: right;\n",
       "    }\n",
       "</style>\n",
       "<table border=\"1\" class=\"dataframe\">\n",
       "  <thead>\n",
       "    <tr style=\"text-align: right;\">\n",
       "      <th></th>\n",
       "      <th>Año</th>\n",
       "    </tr>\n",
       "  </thead>\n",
       "  <tbody>\n",
       "    <tr>\n",
       "      <th>count</th>\n",
       "      <td>11127.000000</td>\n",
       "    </tr>\n",
       "    <tr>\n",
       "      <th>mean</th>\n",
       "      <td>1985.502292</td>\n",
       "    </tr>\n",
       "    <tr>\n",
       "      <th>std</th>\n",
       "      <td>15.007733</td>\n",
       "    </tr>\n",
       "    <tr>\n",
       "      <th>min</th>\n",
       "      <td>1960.000000</td>\n",
       "    </tr>\n",
       "    <tr>\n",
       "      <th>25%</th>\n",
       "      <td>1973.000000</td>\n",
       "    </tr>\n",
       "    <tr>\n",
       "      <th>50%</th>\n",
       "      <td>1986.000000</td>\n",
       "    </tr>\n",
       "    <tr>\n",
       "      <th>75%</th>\n",
       "      <td>1998.500000</td>\n",
       "    </tr>\n",
       "    <tr>\n",
       "      <th>max</th>\n",
       "      <td>2011.000000</td>\n",
       "    </tr>\n",
       "  </tbody>\n",
       "</table>\n",
       "</div>"
      ],
      "text/plain": [
       "                Año\n",
       "count  11127.000000\n",
       "mean    1985.502292\n",
       "std       15.007733\n",
       "min     1960.000000\n",
       "25%     1973.000000\n",
       "50%     1986.000000\n",
       "75%     1998.500000\n",
       "max     2011.000000"
      ]
     },
     "execution_count": 5,
     "metadata": {},
     "output_type": "execute_result"
    }
   ],
   "source": [
    "CO2.describe()"
   ]
  },
  {
   "cell_type": "code",
   "execution_count": 6,
   "metadata": {},
   "outputs": [],
   "source": [
    "CO2=CO2.dropna()"
   ]
  },
  {
   "cell_type": "code",
   "execution_count": 7,
   "metadata": {},
   "outputs": [
    {
     "data": {
      "text/html": [
       "<div>\n",
       "<style scoped>\n",
       "    .dataframe tbody tr th:only-of-type {\n",
       "        vertical-align: middle;\n",
       "    }\n",
       "\n",
       "    .dataframe tbody tr th {\n",
       "        vertical-align: top;\n",
       "    }\n",
       "\n",
       "    .dataframe thead th {\n",
       "        text-align: right;\n",
       "    }\n",
       "</style>\n",
       "<table border=\"1\" class=\"dataframe\">\n",
       "  <thead>\n",
       "    <tr style=\"text-align: right;\">\n",
       "      <th></th>\n",
       "      <th>Código de país</th>\n",
       "      <th>Nombre del país</th>\n",
       "      <th>Región</th>\n",
       "      <th>Año</th>\n",
       "      <th>CO2 (kt)</th>\n",
       "      <th>CO2 per cápita (toneladas métricas)</th>\n",
       "    </tr>\n",
       "  </thead>\n",
       "  <tbody>\n",
       "    <tr>\n",
       "      <th>26</th>\n",
       "      <td>ABW</td>\n",
       "      <td>Aruba</td>\n",
       "      <td>América Latina y Caribe</td>\n",
       "      <td>1986</td>\n",
       "      <td>179,683</td>\n",
       "      <td>2,868319392</td>\n",
       "    </tr>\n",
       "    <tr>\n",
       "      <th>27</th>\n",
       "      <td>ABW</td>\n",
       "      <td>Aruba</td>\n",
       "      <td>América Latina y Caribe</td>\n",
       "      <td>1987</td>\n",
       "      <td>447,374</td>\n",
       "      <td>7,234964017</td>\n",
       "    </tr>\n",
       "    <tr>\n",
       "      <th>28</th>\n",
       "      <td>ABW</td>\n",
       "      <td>Aruba</td>\n",
       "      <td>América Latina y Caribe</td>\n",
       "      <td>1988</td>\n",
       "      <td>612,389</td>\n",
       "      <td>10,026507523</td>\n",
       "    </tr>\n",
       "    <tr>\n",
       "      <th>29</th>\n",
       "      <td>ABW</td>\n",
       "      <td>Aruba</td>\n",
       "      <td>América Latina y Caribe</td>\n",
       "      <td>1989</td>\n",
       "      <td>649,059</td>\n",
       "      <td>10,634732599</td>\n",
       "    </tr>\n",
       "    <tr>\n",
       "      <th>30</th>\n",
       "      <td>ABW</td>\n",
       "      <td>Aruba</td>\n",
       "      <td>América Latina y Caribe</td>\n",
       "      <td>1990</td>\n",
       "      <td>1.840,83</td>\n",
       "      <td>29,620164768</td>\n",
       "    </tr>\n",
       "    <tr>\n",
       "      <th>...</th>\n",
       "      <td>...</td>\n",
       "      <td>...</td>\n",
       "      <td>...</td>\n",
       "      <td>...</td>\n",
       "      <td>...</td>\n",
       "      <td>...</td>\n",
       "    </tr>\n",
       "    <tr>\n",
       "      <th>11122</th>\n",
       "      <td>ZWE</td>\n",
       "      <td>Zimbabue</td>\n",
       "      <td>África subsahariana</td>\n",
       "      <td>2007</td>\n",
       "      <td>9.732,22</td>\n",
       "      <td>0,731866885</td>\n",
       "    </tr>\n",
       "    <tr>\n",
       "      <th>11123</th>\n",
       "      <td>ZWE</td>\n",
       "      <td>Zimbabue</td>\n",
       "      <td>África subsahariana</td>\n",
       "      <td>2008</td>\n",
       "      <td>7.682,37</td>\n",
       "      <td>0,569255428</td>\n",
       "    </tr>\n",
       "    <tr>\n",
       "      <th>11124</th>\n",
       "      <td>ZWE</td>\n",
       "      <td>Zimbabue</td>\n",
       "      <td>África subsahariana</td>\n",
       "      <td>2009</td>\n",
       "      <td>8.239,75</td>\n",
       "      <td>0,600521157</td>\n",
       "    </tr>\n",
       "    <tr>\n",
       "      <th>11125</th>\n",
       "      <td>ZWE</td>\n",
       "      <td>Zimbabue</td>\n",
       "      <td>África subsahariana</td>\n",
       "      <td>2010</td>\n",
       "      <td>9.028,15</td>\n",
       "      <td>0,646072745</td>\n",
       "    </tr>\n",
       "    <tr>\n",
       "      <th>11126</th>\n",
       "      <td>ZWE</td>\n",
       "      <td>Zimbabue</td>\n",
       "      <td>África subsahariana</td>\n",
       "      <td>2011</td>\n",
       "      <td>9.860,56</td>\n",
       "      <td>0,691697897</td>\n",
       "    </tr>\n",
       "  </tbody>\n",
       "</table>\n",
       "<p>9029 rows × 6 columns</p>\n",
       "</div>"
      ],
      "text/plain": [
       "      Código de país Nombre del país                   Región   Año  CO2 (kt)  \\\n",
       "26               ABW           Aruba  América Latina y Caribe  1986   179,683   \n",
       "27               ABW           Aruba  América Latina y Caribe  1987   447,374   \n",
       "28               ABW           Aruba  América Latina y Caribe  1988   612,389   \n",
       "29               ABW           Aruba  América Latina y Caribe  1989   649,059   \n",
       "30               ABW           Aruba  América Latina y Caribe  1990  1.840,83   \n",
       "...              ...             ...                      ...   ...       ...   \n",
       "11122            ZWE        Zimbabue      África subsahariana  2007  9.732,22   \n",
       "11123            ZWE        Zimbabue      África subsahariana  2008  7.682,37   \n",
       "11124            ZWE        Zimbabue      África subsahariana  2009  8.239,75   \n",
       "11125            ZWE        Zimbabue      África subsahariana  2010  9.028,15   \n",
       "11126            ZWE        Zimbabue      África subsahariana  2011  9.860,56   \n",
       "\n",
       "      CO2 per cápita (toneladas métricas)  \n",
       "26                            2,868319392  \n",
       "27                            7,234964017  \n",
       "28                           10,026507523  \n",
       "29                           10,634732599  \n",
       "30                           29,620164768  \n",
       "...                                   ...  \n",
       "11122                         0,731866885  \n",
       "11123                         0,569255428  \n",
       "11124                         0,600521157  \n",
       "11125                         0,646072745  \n",
       "11126                         0,691697897  \n",
       "\n",
       "[9029 rows x 6 columns]"
      ]
     },
     "execution_count": 7,
     "metadata": {},
     "output_type": "execute_result"
    }
   ],
   "source": [
    "CO2.dropna()"
   ]
  },
  {
   "cell_type": "code",
   "execution_count": 8,
   "metadata": {},
   "outputs": [
    {
     "name": "stderr",
     "output_type": "stream",
     "text": [
      "C:\\Users\\Alumno\\AppData\\Local\\Temp\\ipykernel_8100\\2458368887.py:1: SettingWithCopyWarning: \n",
      "A value is trying to be set on a copy of a slice from a DataFrame.\n",
      "Try using .loc[row_indexer,col_indexer] = value instead\n",
      "\n",
      "See the caveats in the documentation: https://pandas.pydata.org/pandas-docs/stable/user_guide/indexing.html#returning-a-view-versus-a-copy\n",
      "  CO2['CO2 (kt)'] = CO2['CO2 (kt)'].str.replace(',', '')\n",
      "C:\\Users\\Alumno\\AppData\\Local\\Temp\\ipykernel_8100\\2458368887.py:2: SettingWithCopyWarning: \n",
      "A value is trying to be set on a copy of a slice from a DataFrame.\n",
      "Try using .loc[row_indexer,col_indexer] = value instead\n",
      "\n",
      "See the caveats in the documentation: https://pandas.pydata.org/pandas-docs/stable/user_guide/indexing.html#returning-a-view-versus-a-copy\n",
      "  CO2['CO2 (kt)'] = CO2['CO2 (kt)'].str.replace('.', '')\n",
      "C:\\Users\\Alumno\\AppData\\Local\\Temp\\ipykernel_8100\\2458368887.py:3: SettingWithCopyWarning: \n",
      "A value is trying to be set on a copy of a slice from a DataFrame.\n",
      "Try using .loc[row_indexer,col_indexer] = value instead\n",
      "\n",
      "See the caveats in the documentation: https://pandas.pydata.org/pandas-docs/stable/user_guide/indexing.html#returning-a-view-versus-a-copy\n",
      "  CO2['CO2 (kt)'] = CO2['CO2 (kt)'].astype(int)\n"
     ]
    }
   ],
   "source": [
    "CO2['CO2 (kt)'] = CO2['CO2 (kt)'].str.replace(',', '')\n",
    "CO2['CO2 (kt)'] = CO2['CO2 (kt)'].str.replace('.', '')\n",
    "CO2['CO2 (kt)'] = CO2['CO2 (kt)'].astype(int)"
   ]
  },
  {
   "cell_type": "code",
   "execution_count": 9,
   "metadata": {},
   "outputs": [],
   "source": [
    "CO2.to_csv('CO2_limpio.csv')"
   ]
  },
  {
   "cell_type": "code",
   "execution_count": 12,
   "metadata": {},
   "outputs": [
    {
     "name": "stderr",
     "output_type": "stream",
     "text": [
      "C:\\Users\\Alumno\\AppData\\Local\\Temp\\ipykernel_8100\\2238486412.py:1: SettingWithCopyWarning: \n",
      "A value is trying to be set on a copy of a slice from a DataFrame.\n",
      "Try using .loc[row_indexer,col_indexer] = value instead\n",
      "\n",
      "See the caveats in the documentation: https://pandas.pydata.org/pandas-docs/stable/user_guide/indexing.html#returning-a-view-versus-a-copy\n",
      "  CO2['CO2 per cápita (toneladas métricas)'] = CO2['CO2 per cápita (toneladas métricas)'].str.replace(',', '.')\n",
      "C:\\Users\\Alumno\\AppData\\Local\\Temp\\ipykernel_8100\\2238486412.py:2: SettingWithCopyWarning: \n",
      "A value is trying to be set on a copy of a slice from a DataFrame.\n",
      "Try using .loc[row_indexer,col_indexer] = value instead\n",
      "\n",
      "See the caveats in the documentation: https://pandas.pydata.org/pandas-docs/stable/user_guide/indexing.html#returning-a-view-versus-a-copy\n",
      "  CO2['CO2 per cápita (toneladas métricas)'] = CO2['CO2 per cápita (toneladas métricas)'].astype(float)\n"
     ]
    }
   ],
   "source": [
    "CO2['CO2 per cápita (toneladas métricas)'] = CO2['CO2 per cápita (toneladas métricas)'].str.replace(',', '.')\n",
    "CO2['CO2 per cápita (toneladas métricas)'] = CO2['CO2 per cápita (toneladas métricas)'].astype(float)"
   ]
  },
  {
   "cell_type": "code",
   "execution_count": 13,
   "metadata": {},
   "outputs": [
    {
     "data": {
      "text/html": [
       "<div>\n",
       "<style scoped>\n",
       "    .dataframe tbody tr th:only-of-type {\n",
       "        vertical-align: middle;\n",
       "    }\n",
       "\n",
       "    .dataframe tbody tr th {\n",
       "        vertical-align: top;\n",
       "    }\n",
       "\n",
       "    .dataframe thead th {\n",
       "        text-align: right;\n",
       "    }\n",
       "</style>\n",
       "<table border=\"1\" class=\"dataframe\">\n",
       "  <thead>\n",
       "    <tr style=\"text-align: right;\">\n",
       "      <th></th>\n",
       "      <th>Año</th>\n",
       "      <th>CO2 (kt)</th>\n",
       "      <th>CO2 per cápita (toneladas métricas)</th>\n",
       "    </tr>\n",
       "  </thead>\n",
       "  <tbody>\n",
       "    <tr>\n",
       "      <th>count</th>\n",
       "      <td>9029.000000</td>\n",
       "      <td>9.029000e+03</td>\n",
       "      <td>9029.000000</td>\n",
       "    </tr>\n",
       "    <tr>\n",
       "      <th>mean</th>\n",
       "      <td>1986.856463</td>\n",
       "      <td>9.937926e+06</td>\n",
       "      <td>4.340822</td>\n",
       "    </tr>\n",
       "    <tr>\n",
       "      <th>std</th>\n",
       "      <td>15.062071</td>\n",
       "      <td>4.663095e+07</td>\n",
       "      <td>7.560692</td>\n",
       "    </tr>\n",
       "    <tr>\n",
       "      <th>min</th>\n",
       "      <td>1960.000000</td>\n",
       "      <td>3.667000e+03</td>\n",
       "      <td>0.000580</td>\n",
       "    </tr>\n",
       "    <tr>\n",
       "      <th>25%</th>\n",
       "      <td>1974.000000</td>\n",
       "      <td>2.053520e+05</td>\n",
       "      <td>0.348972</td>\n",
       "    </tr>\n",
       "    <tr>\n",
       "      <th>50%</th>\n",
       "      <td>1988.000000</td>\n",
       "      <td>6.120220e+05</td>\n",
       "      <td>1.450587</td>\n",
       "    </tr>\n",
       "    <tr>\n",
       "      <th>75%</th>\n",
       "      <td>2000.000000</td>\n",
       "      <td>3.991163e+06</td>\n",
       "      <td>5.953205</td>\n",
       "    </tr>\n",
       "    <tr>\n",
       "      <th>max</th>\n",
       "      <td>2011.000000</td>\n",
       "      <td>9.019518e+08</td>\n",
       "      <td>99.840439</td>\n",
       "    </tr>\n",
       "  </tbody>\n",
       "</table>\n",
       "</div>"
      ],
      "text/plain": [
       "               Año      CO2 (kt)  CO2 per cápita (toneladas métricas)\n",
       "count  9029.000000  9.029000e+03                          9029.000000\n",
       "mean   1986.856463  9.937926e+06                             4.340822\n",
       "std      15.062071  4.663095e+07                             7.560692\n",
       "min    1960.000000  3.667000e+03                             0.000580\n",
       "25%    1974.000000  2.053520e+05                             0.348972\n",
       "50%    1988.000000  6.120220e+05                             1.450587\n",
       "75%    2000.000000  3.991163e+06                             5.953205\n",
       "max    2011.000000  9.019518e+08                            99.840439"
      ]
     },
     "execution_count": 13,
     "metadata": {},
     "output_type": "execute_result"
    }
   ],
   "source": [
    "CO2.describe()"
   ]
  },
  {
   "cell_type": "code",
   "execution_count": 18,
   "metadata": {},
   "outputs": [
    {
     "data": {
      "text/plain": [
       "array(['Aruba', 'Andorra', 'Afganistán', 'Angola', 'Albania',\n",
       "       'Emiratos Árabes Unidos', 'Argentina', 'Armenia',\n",
       "       'Antigua y Barbuda', 'Australia', 'Austria', 'Azerbaiyán',\n",
       "       'Burundi', 'Bélgica', 'Benín', 'Burkina Faso', 'Bangladés',\n",
       "       'Bulgaria', 'Baréin', 'Bahamas', 'Bosnia y Herzegovina',\n",
       "       'Bielorrusia', 'Belice', 'Bermudas', 'Bolivia', 'Brasil',\n",
       "       'Barbados', 'Brunéi', 'Bután', 'Botsuana',\n",
       "       'República Centroafricana', 'Canadá', 'Suiza', 'Chile', 'China',\n",
       "       'Costa de Marfil', 'Camerún', 'Congo (República)', 'Colombia',\n",
       "       'Comoras', 'Cabo Verde', 'Costa Rica', 'Cuba', 'Islas Caimán',\n",
       "       'Chipre', 'República Checa', 'Alemania', 'Yibuti', 'Dominica',\n",
       "       'Dinamarca', 'República Dominicana', 'Argelia', 'Ecuador',\n",
       "       'Egipto', 'Eritrea', 'España', 'Estonia', 'Etiopía', 'Finlandia',\n",
       "       'Fiyi', 'Francia', 'Islas Feroe', 'Micronesia (Estados Federados)',\n",
       "       'Gabón', 'Reino Unido', 'Georgia', 'Ghana', 'Guinea', 'Gambia',\n",
       "       'Guinea-Bisáu', 'Guinea Ecuatorial', 'Grecia', 'Granada',\n",
       "       'Groenlandia', 'Guatemala', 'Guyana',\n",
       "       'Hong Kong (RAE, República Popular China)', 'Honduras', 'Croacia',\n",
       "       'Haití', 'Hungría', 'Indonesia', 'India', 'Irlanda', 'Irán',\n",
       "       'Irak', 'Islandia', 'Israel', 'Italia', 'Jamaica', 'Jordania',\n",
       "       'Japón', 'Kazajistán', 'Kenia', 'Kirguistán', 'Camboya',\n",
       "       'Kiribati', 'San Cristóbal y Nieves', 'Corea (República)',\n",
       "       'Kuwait', 'Laos', 'Líbano', 'Liberia', 'Libia', 'Santa Lucía',\n",
       "       'Liechtenstein', 'Sri Lanka', 'Lesoto', 'Lituania', 'Luxemburgo',\n",
       "       'Letonia', 'Macao (RAE, República Popular China)', 'Marruecos',\n",
       "       'Moldavia', 'Madagascar', 'Maldivas', 'México', 'Islas Marshall',\n",
       "       'Macedonia (Antigua República Yugoslava)', 'Mali', 'Malta',\n",
       "       'Birmania', 'Montenegro', 'Mongolia', 'Mozambique', 'Mauritania',\n",
       "       'Mauricio', 'Malaui', 'Malasia', 'Namibia', 'Nueva Caledonia',\n",
       "       'Níger', 'Nigeria', 'Nicaragua', 'Países Bajos', 'Noruega',\n",
       "       'Nepal', 'Nueva Zelanda', 'Omán', 'Pakistán', 'Panamá', 'Perú',\n",
       "       'Filipinas', 'Palaos', 'Papúa Nueva Guinea', 'Polonia',\n",
       "       'Corea (República Popular Democrática)', 'Portugal', 'Paraguay',\n",
       "       'Polinesia Francesa', 'Catar', 'Rumania', 'Rusia', 'Ruanda',\n",
       "       'Arabia Saudí', 'Sudán', 'Senegal', 'Singapur', 'Islas Salomón',\n",
       "       'Sierra Leona', 'El Salvador', 'Somalia', 'Serbia',\n",
       "       'Santo Tomé y Príncipe', 'Surinam', 'Eslovaquia', 'Eslovenia',\n",
       "       'Suecia', 'Suazilandia', 'Seychelles', 'Siria',\n",
       "       'Islas Turcas y Caicos', 'Chad', 'Togo', 'Tailandia', 'Tayikistán',\n",
       "       'Turkmenistán', 'Timor Oriental', 'Tonga', 'Trinidad y Tobago',\n",
       "       'Túnez', 'Turquía', 'Tanzania', 'Uganda', 'Ucrania', 'Uruguay',\n",
       "       'Estados Unidos', 'Uzbekistán', 'San Vicente y las Granadinas',\n",
       "       'Venezuela', 'Vietnam', 'Vanuatu', 'Estado de Palestina', 'Samoa',\n",
       "       'Yemen', 'Sudáfrica', 'Congo (República Democrática)', 'Zambia',\n",
       "       'Zimbabue'], dtype=object)"
      ]
     },
     "execution_count": 18,
     "metadata": {},
     "output_type": "execute_result"
    }
   ],
   "source": [
    "#Cuales son los paises?\n",
    "#Cuantos paises son?\n",
    "CO2['Nombre del país'].unique()"
   ]
  },
  {
   "cell_type": "code",
   "execution_count": 20,
   "metadata": {},
   "outputs": [
    {
     "data": {
      "text/plain": [
       "array(['ABW', 'AND', 'AFG', 'AGO', 'ALB', 'ARE', 'ARG', 'ARM', 'ATG',\n",
       "       'AUS', 'AUT', 'AZE', 'BDI', 'BEL', 'BEN', 'BFA', 'BGD', 'BGR',\n",
       "       'BHR', 'BHS', 'BIH', 'BLR', 'BLZ', 'BMU', 'BOL', 'BRA', 'BRB',\n",
       "       'BRN', 'BTN', 'BWA', 'CAF', 'CAN', 'CHE', 'CHL', 'CHN', 'CIV',\n",
       "       'CMR', 'COG', 'COL', 'COM', 'CPV', 'CRI', 'CUB', 'CYM', 'CYP',\n",
       "       'CZE', 'DEU', 'DJI', 'DMA', 'DNK', 'DOM', 'DZA', 'ECU', 'EGY',\n",
       "       'ERI', 'ESP', 'EST', 'ETH', 'FIN', 'FJI', 'FRA', 'FRO', 'FSM',\n",
       "       'GAB', 'GBR', 'GEO', 'GHA', 'GIN', 'GMB', 'GNB', 'GNQ', 'GRC',\n",
       "       'GRD', 'GRL', 'GTM', 'GUY', 'HKG', 'HND', 'HRV', 'HTI', 'HUN',\n",
       "       'IDN', 'IND', 'IRL', 'IRN', 'IRQ', 'ISL', 'ISR', 'ITA', 'JAM',\n",
       "       'JOR', 'JPN', 'KAZ', 'KEN', 'KGZ', 'KHM', 'KIR', 'KNA', 'KOR',\n",
       "       'KWT', 'LAO', 'LBN', 'LBR', 'LBY', 'LCA', 'LIE', 'LKA', 'LSO',\n",
       "       'LTU', 'LUX', 'LVA', 'MAC', 'MAR', 'MDA', 'MDG', 'MDV', 'MEX',\n",
       "       'MHL', 'MKD', 'MLI', 'MLT', 'MMR', 'MNE', 'MNG', 'MOZ', 'MRT',\n",
       "       'MUS', 'MWI', 'MYS', 'NAM', 'NCL', 'NER', 'NGA', 'NIC', 'NLD',\n",
       "       'NOR', 'NPL', 'NZL', 'OMN', 'PAK', 'PAN', 'PER', 'PHL', 'PLW',\n",
       "       'PNG', 'POL', 'PRK', 'PRT', 'PRY', 'PYF', 'QAT', 'ROU', 'RUS',\n",
       "       'RWA', 'SAU', 'SDN', 'SEN', 'SGP', 'SLB', 'SLE', 'SLV', 'SOM',\n",
       "       'SRB', 'STP', 'SUR', 'SVK', 'SVN', 'SWE', 'SWZ', 'SYC', 'SYR',\n",
       "       'TCA', 'TCD', 'TGO', 'THA', 'TJK', 'TKM', 'TLS', 'TON', 'TTO',\n",
       "       'TUN', 'TUR', 'TZA', 'UGA', 'UKR', 'URY', 'USA', 'UZB', 'VCT',\n",
       "       'VEN', 'VNM', 'VUT', 'PSE', 'WSM', 'YEM', 'ZAF', 'COD', 'ZMB',\n",
       "       'ZWE'], dtype=object)"
      ]
     },
     "execution_count": 20,
     "metadata": {},
     "output_type": "execute_result"
    }
   ],
   "source": [
    "#Cuales son los codigos de paises?\n",
    "#Cuantos codigos de paises son?\n",
    "CO2['Código de país'].unique()"
   ]
  },
  {
   "cell_type": "code",
   "execution_count": 27,
   "metadata": {},
   "outputs": [
    {
     "data": {
      "text/plain": [
       "array(['América Latina y Caribe', 'Europa y Asia Central', 'Sur de Asia',\n",
       "       'África subsahariana', 'Oriente Medio y Norte de África',\n",
       "       'Asia Oriental y Asia-Pacífico', 'Norteamérica'], dtype=object)"
      ]
     },
     "execution_count": 27,
     "metadata": {},
     "output_type": "execute_result"
    }
   ],
   "source": [
    "CO2['Región'].unique()"
   ]
  },
  {
   "cell_type": "code",
   "execution_count": 24,
   "metadata": {},
   "outputs": [
    {
     "data": {
      "text/plain": [
       "199"
      ]
     },
     "execution_count": 24,
     "metadata": {},
     "output_type": "execute_result"
    }
   ],
   "source": [
    "#Cantidad de paises\n",
    "len(CO2['Nombre del país'].unique())"
   ]
  },
  {
   "cell_type": "code",
   "execution_count": 25,
   "metadata": {},
   "outputs": [
    {
     "data": {
      "text/plain": [
       "199"
      ]
     },
     "execution_count": 25,
     "metadata": {},
     "output_type": "execute_result"
    }
   ],
   "source": [
    "#Cantidad de codigos\n",
    "len(CO2['Código de país'].unique())"
   ]
  },
  {
   "cell_type": "code",
   "execution_count": 26,
   "metadata": {},
   "outputs": [
    {
     "data": {
      "text/plain": [
       "7"
      ]
     },
     "execution_count": 26,
     "metadata": {},
     "output_type": "execute_result"
    }
   ],
   "source": [
    "#Cantidad de regiones\n",
    "len(CO2['Región'].unique())"
   ]
  },
  {
   "cell_type": "code",
   "execution_count": 28,
   "metadata": {},
   "outputs": [
    {
     "data": {
      "text/plain": [
       "Región\n",
       "África subsahariana                2299\n",
       "Europa y Asia Central              1828\n",
       "América Latina y Caribe            1811\n",
       "Asia Oriental y Asia-Pacífico      1504\n",
       "Oriente Medio y Norte de África    1048\n",
       "Sur de Asia                         383\n",
       "Norteamérica                        156\n",
       "Name: count, dtype: int64"
      ]
     },
     "execution_count": 28,
     "metadata": {},
     "output_type": "execute_result"
    }
   ],
   "source": [
    "CO2['Región'].value_counts()"
   ]
  },
  {
   "cell_type": "code",
   "execution_count": 29,
   "metadata": {},
   "outputs": [
    {
     "data": {
      "text/plain": [
       "Código de país\n",
       "HND    52\n",
       "TTO    52\n",
       "KNA    52\n",
       "KOR    52\n",
       "TON    52\n",
       "       ..\n",
       "TLS    10\n",
       "LSO     7\n",
       "MNE     7\n",
       "SRB     6\n",
       "LIE     5\n",
       "Name: count, Length: 199, dtype: int64"
      ]
     },
     "execution_count": 29,
     "metadata": {},
     "output_type": "execute_result"
    }
   ],
   "source": [
    "CO2['Código de país'].value_counts()"
   ]
  },
  {
   "cell_type": "code",
   "execution_count": 30,
   "metadata": {},
   "outputs": [
    {
     "data": {
      "text/plain": [
       "Nombre del país\n",
       "Honduras                  52\n",
       "Trinidad y Tobago         52\n",
       "San Cristóbal y Nieves    52\n",
       "Corea (República)         52\n",
       "Tonga                     52\n",
       "                          ..\n",
       "Timor Oriental            10\n",
       "Lesoto                     7\n",
       "Montenegro                 7\n",
       "Serbia                     6\n",
       "Liechtenstein              5\n",
       "Name: count, Length: 199, dtype: int64"
      ]
     },
     "execution_count": 30,
     "metadata": {},
     "output_type": "execute_result"
    }
   ],
   "source": [
    "CO2['Nombre del país'].value_counts()"
   ]
  }
 ],
 "metadata": {
  "kernelspec": {
   "display_name": "Python 3",
   "language": "python",
   "name": "python3"
  },
  "language_info": {
   "codemirror_mode": {
    "name": "ipython",
    "version": 3
   },
   "file_extension": ".py",
   "mimetype": "text/x-python",
   "name": "python",
   "nbconvert_exporter": "python",
   "pygments_lexer": "ipython3",
   "version": "3.11.8"
  }
 },
 "nbformat": 4,
 "nbformat_minor": 2
}
